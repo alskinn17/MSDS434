{
 "cells": [
  {
   "cell_type": "code",
   "execution_count": 17,
   "id": "ac3ad5d4",
   "metadata": {},
   "outputs": [],
   "source": [
    "import psycopg2\n",
    "import pandas as pd\n",
    "from pandas import DataFrame\n",
    "import pandas.io.sql as psql"
   ]
  },
  {
   "cell_type": "code",
   "execution_count": 140,
   "id": "f486e67a",
   "metadata": {},
   "outputs": [],
   "source": [
    "#connect to the db\n",
    "con = psycopg2.connect(\n",
    "            host = \"localhost\",\n",
    "            database = \"chicago_business_intelligence\",\n",
    "            user = \"postgres\",\n",
    "            password = \"root\",\n",
    "            port = 5433)"
   ]
  },
  {
   "cell_type": "code",
   "execution_count": 141,
   "id": "d7cabeb1",
   "metadata": {},
   "outputs": [],
   "source": [
    "cur = con.cursor()"
   ]
  },
  {
   "cell_type": "code",
   "execution_count": 65,
   "id": "56b13d6a",
   "metadata": {},
   "outputs": [],
   "source": [
    "#requirement 3 \n",
    "#grab HIGH ccvi category data\n",
    "cur.execute(\"select community_area_or_zip, community_area_name, ccvi_category from ccvi_data\")\n",
    "\n",
    "rows = cur.fetchall()\n",
    "\n",
    "df = pd.DataFrame(rows)\n",
    "df.columns = ['community_area_or_zip', 'community_area_name', 'ccvi_category']\n",
    "df['ccvi_category'] = df['ccvi_category'].astype(str).astype(float)\n",
    "\n",
    "#filter out areas that are not HIGH on CCVI scale \n",
    "df = df[df['ccvi_category'] > 47.4]\n",
    "\n",
    "#grab taxi trip pickup and drop off data\n",
    "cur.execute(\"select pickup_zip_code, dropoff_zip_code from taxi_trips\")\n",
    "\n",
    "rows_tt = cur.fetchall()\n",
    "\n",
    "df_tt = pd.DataFrame(rows_tt)\n",
    "df_tt.columns = ['pickup_zip_code', 'dropoff_zip_code']\n",
    "\n",
    "#create a flag that checks for trips that pick up or drop off in a area with a HIGH CCVI\n",
    "df_tt = df_tt.assign(flag_p=df_tt.pickup_zip_code.isin(df.community_area_or_zip).astype(int))\n",
    "df_tt = df_tt.assign(flag_d=df_tt.dropoff_zip_code.isin(df.community_area_or_zip).astype(int))"
   ]
  },
  {
   "cell_type": "code",
   "execution_count": 70,
   "id": "5b7235ab",
   "metadata": {},
   "outputs": [
    {
     "name": "stdout",
     "output_type": "stream",
     "text": [
      "The total number of trips in the dataset that include a pick up or drop of to an area with a HIGH CCVI are 102\n"
     ]
    }
   ],
   "source": [
    "total = df_tt['flag_p'].sum() + df_tt['flag_d'].sum()\n",
    "print(\"The total number of trips in the dataset that include a pick up or drop of to an area with a HIGH CCVI are\", total)"
   ]
  },
  {
   "cell_type": "code",
   "execution_count": 144,
   "id": "53498ead",
   "metadata": {
    "scrolled": true
   },
   "outputs": [
    {
     "name": "stdout",
     "output_type": "stream",
     "text": [
      "Here is a list of every open building permit in an area with top 5 poverty or top 5 unemployment:\n"
     ]
    },
    {
     "data": {
      "text/html": [
       "<div>\n",
       "<style scoped>\n",
       "    .dataframe tbody tr th:only-of-type {\n",
       "        vertical-align: middle;\n",
       "    }\n",
       "\n",
       "    .dataframe tbody tr th {\n",
       "        vertical-align: top;\n",
       "    }\n",
       "\n",
       "    .dataframe thead th {\n",
       "        text-align: right;\n",
       "    }\n",
       "</style>\n",
       "<table border=\"1\" class=\"dataframe\">\n",
       "  <thead>\n",
       "    <tr style=\"text-align: right;\">\n",
       "      <th></th>\n",
       "      <th>permit_id</th>\n",
       "      <th>community_area</th>\n",
       "      <th>subtotal_unpaid</th>\n",
       "      <th>total_fee</th>\n",
       "      <th>contact_1_type</th>\n",
       "      <th>contact_1_name</th>\n",
       "      <th>contact_1_city</th>\n",
       "      <th>contact_1_state</th>\n",
       "      <th>contact_1_zipcode</th>\n",
       "      <th>flag_u</th>\n",
       "      <th>flag_p</th>\n",
       "    </tr>\n",
       "  </thead>\n",
       "  <tbody>\n",
       "  </tbody>\n",
       "</table>\n",
       "</div>"
      ],
      "text/plain": [
       "Empty DataFrame\n",
       "Columns: [permit_id, community_area, subtotal_unpaid, total_fee, contact_1_type, contact_1_name, contact_1_city, contact_1_state, contact_1_zipcode, flag_u, flag_p]\n",
       "Index: []"
      ]
     },
     "execution_count": 144,
     "metadata": {},
     "output_type": "execute_result"
    }
   ],
   "source": [
    "#requirement 5\n",
    "cur.execute(\"select community_area, community_area_name, unemployment, below_poverty_level from community_area_unemployment\")\n",
    "\n",
    "rows = cur.fetchall()\n",
    "\n",
    "df_unemployment = pd.DataFrame(rows)\n",
    "df_unemployment.columns = ['community_area', 'community_area_name', 'unemployment_rate', 'poverty_rate']\n",
    "\n",
    "#select top 5 unemployment rate areas and top 5 poverty rate areas\n",
    "df_top5_unemployment = df_unemployment.sort_values(by='unemployment_rate', ascending=False)\n",
    "df_top5_unemployment = df_top5_unemployment.head()\n",
    "df_top5_poverty = df_unemployment.sort_values(by='poverty_rate', ascending=False)\n",
    "df_top5_poverty = df_top5_poverty.head()\n",
    "\n",
    "#pull relevant data from building permits\n",
    "cur.execute(\"select permit_id, community_area, subtotal_unpaid, total_fee, contact_1_type, contact_1_name, contact_1_city, contact_1_state, contact_1_zipcode  from building_permits\")\n",
    "\n",
    "rows = cur.fetchall()\n",
    "\n",
    "df_bp = pd.DataFrame(rows)\n",
    "df_bp.columns = ['permit_id', 'community_area', 'subtotal_unpaid', 'total_fee', 'contact_1_type', 'contact_1_name', 'contact_1_city', 'contact_1_state', 'contact_1_zipcode']\n",
    "\n",
    "#check for open building permits in areas with high poverty rates or high unemployment and flag them\n",
    "df_bp = df_bp.assign(flag_u=df_bp.community_area.isin(df_top5_unemployment).astype(int))\n",
    "df_bp = df_bp.assign(flag_p=df_bp.community_area.isin(df_top5_poverty).astype(int))\n",
    "\n",
    "#create temp dfs to hold flagged data\n",
    "temp1 = df_bp[(df_bp.flag_u == 1)]\n",
    "temp2 = df_bp[(df_bp.flag_p == 1)]\n",
    "\n",
    "#display which open building permits should have fees waived\n",
    "df_waive_fee = temp1.append(temp2)\n",
    "print(\"Here is a list of every open building permit in an area with top 5 poverty or top 5 unemployment:\")\n",
    "df_waive_fee"
   ]
  },
  {
   "cell_type": "code",
   "execution_count": 148,
   "id": "b3c10785",
   "metadata": {},
   "outputs": [
    {
     "name": "stdout",
     "output_type": "stream",
     "text": [
      "   community_area community_area_name unemployment_rate poverty_rate\n",
      "61             62         West Elsdon              13.5          9.8\n",
      "69             70             Ashburn               8.8          9.5\n",
      "75             76              O'Hare               4.7          9.5\n",
      "3               4      Lincoln Square               6.8          9.5\n",
      "55             56      Garfield Ridge               8.1            9\n",
      "   community_area community_area_name unemployment_rate poverty_rate\n",
      "63             64            Clearing               9.6          5.9\n",
      "54             55           Hegewisch               9.6         12.1\n",
      "20             21            Avondale               9.3         14.6\n",
      "76             77           Edgewater                 9         16.6\n",
      "10             11      Jefferson Park                 9          6.4\n"
     ]
    },
    {
     "data": {
      "text/plain": [
       "array(['61', '1', '17', '10', '29', '76', '65', '15', '25', '3', '43',\n",
       "       '66', '8', '28', '33', '34', '13', '16', '77', '24', '32', '57',\n",
       "       '6', '22', '75'], dtype=object)"
      ]
     },
     "execution_count": 148,
     "metadata": {},
     "output_type": "execute_result"
    }
   ],
   "source": [
    "print(df_top5_poverty)\n",
    "print(df_top5_unemployment)\n",
    "df_bp.community_area.unique()"
   ]
  },
  {
   "cell_type": "code",
   "execution_count": 142,
   "id": "d4186f7f",
   "metadata": {},
   "outputs": [
    {
     "name": "stdout",
     "output_type": "stream",
     "text": [
      "The following dataset includes all taxi trips that either went to the airport or came from the airport\n",
      "         trip_start_timestamp pickup_zip_code dropoff_zip_code\n",
      "10  2022-11-01 00:00:00+00:00           60638            60612\n",
      "12  2022-11-01 00:00:00+00:00           60638            60610\n",
      "17  2022-11-01 00:00:00+00:00           60638            60616\n",
      "18  2022-11-01 00:00:00+00:00           60638            60610\n",
      "23  2022-11-01 00:00:00+00:00           60638            60614\n",
      "..                        ...             ...              ...\n",
      "360 2022-10-31 22:45:00+00:00           60638            60638\n",
      "424 2019-04-26 16:45:00+00:00           60629            60638\n",
      "426 2019-03-31 13:00:00+00:00           60611            60638\n",
      "493 2019-06-09 13:00:00+00:00           60657            60638\n",
      "793 2019-04-16 19:30:00+00:00           60614            60638\n",
      "\n",
      "[73 rows x 3 columns]\n",
      "The following dataset includes the relevant COVID weekly case rate for each zip code\n",
      "    zip_code week_number cases_weekly\n",
      "0      60603          10             \n",
      "1      60603          11             \n",
      "2      60603          12             \n",
      "3      60603          13             \n",
      "4      60603          14             \n",
      "..       ...         ...          ...\n",
      "495    60827          33            3\n",
      "496    60605          49           70\n",
      "497    60827          26           11\n",
      "498    60827          27           11\n",
      "499    60827          28           16\n",
      "\n",
      "[500 rows x 3 columns]\n"
     ]
    }
   ],
   "source": [
    "#requirement 2\n",
    "#zip code for MDW is 60638 and ORD is 60018\n",
    "cur.execute(\"select trip_start_timestamp, pickup_zip_code, dropoff_zip_code from taxi_trips\")\n",
    "\n",
    "rows = cur.fetchall()\n",
    "\n",
    "df_air = pd.DataFrame(rows)\n",
    "df_air.columns = ['trip_start_timestamp', 'pickup_zip_code', 'dropoff_zip_code']\n",
    "#to expand on this you would extract the week number from the timestamp and then compare to how the weekly covid cases were during the following period\n",
    "\n",
    "#find all trips that went to or from either airport\n",
    "temp1 = df_air[(df_air.pickup_zip_code == '60638')]\n",
    "temp2 = df_air[(df_air.pickup_zip_code == '60018')]\n",
    "temp3 = df_air[(df_air.dropoff_zip_code == '60638')]\n",
    "temp4 = df_air[(df_air.dropoff_zip_code == '60018')]\n",
    "\n",
    "df_air_taxi = temp1.append(temp2)\n",
    "df_air_taxi = df_air_taxi.append(temp3)\n",
    "df_air_taxi = df_air_taxi.append(temp4)\n",
    "\n",
    "#get covid detail data\n",
    "cur.execute(\"select zip_code, week_number, cases_weekly from covid_data\")\n",
    "\n",
    "rows = cur.fetchall()\n",
    "\n",
    "df_covid = pd.DataFrame(rows)\n",
    "df_covid.columns = ['zip_code', 'week_number', 'cases_weekly']\n",
    "\n",
    "print(\"The following dataset includes all taxi trips that either went to the airport or came from the airport\")\n",
    "print(df_air_taxi)\n",
    "\n",
    "print(\"The following dataset includes the relevant COVID weekly case rate for each zip code\")\n",
    "print(df_covid)\n",
    "#to further expand you would want to see which area codes had the highest weekly rates of travel to and from the airport and then sort out those zipcodes in the covid data"
   ]
  },
  {
   "cell_type": "code",
   "execution_count": 139,
   "id": "0eee8d8d",
   "metadata": {},
   "outputs": [],
   "source": [
    "#close connection\n",
    "con.close()"
   ]
  }
 ],
 "metadata": {
  "kernelspec": {
   "display_name": "Python 3 (ipykernel)",
   "language": "python",
   "name": "python3"
  },
  "language_info": {
   "codemirror_mode": {
    "name": "ipython",
    "version": 3
   },
   "file_extension": ".py",
   "mimetype": "text/x-python",
   "name": "python",
   "nbconvert_exporter": "python",
   "pygments_lexer": "ipython3",
   "version": "3.9.7"
  }
 },
 "nbformat": 4,
 "nbformat_minor": 5
}
