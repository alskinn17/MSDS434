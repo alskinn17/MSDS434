{
 "cells": [
  {
   "cell_type": "code",
   "execution_count": 1,
   "id": "533d8240",
   "metadata": {},
   "outputs": [],
   "source": [
    "import pandas as pd\n",
    "import json"
   ]
  },
  {
   "cell_type": "code",
   "execution_count": 2,
   "id": "f5e4cdf9",
   "metadata": {},
   "outputs": [],
   "source": [
    "df = pd.read_csv('last3.csv')"
   ]
  },
  {
   "cell_type": "code",
   "execution_count": 3,
   "id": "e2c7cba3",
   "metadata": {},
   "outputs": [
    {
     "data": {
      "text/html": [
       "<div>\n",
       "<style scoped>\n",
       "    .dataframe tbody tr th:only-of-type {\n",
       "        vertical-align: middle;\n",
       "    }\n",
       "\n",
       "    .dataframe tbody tr th {\n",
       "        vertical-align: top;\n",
       "    }\n",
       "\n",
       "    .dataframe thead th {\n",
       "        text-align: right;\n",
       "    }\n",
       "</style>\n",
       "<table border=\"1\" class=\"dataframe\">\n",
       "  <thead>\n",
       "    <tr style=\"text-align: right;\">\n",
       "      <th></th>\n",
       "      <th>Team</th>\n",
       "      <th>total_goals_per_match</th>\n",
       "      <th>half_time_goals_per_match</th>\n",
       "      <th>shots_per_match</th>\n",
       "      <th>shots_on_target_per_match</th>\n",
       "      <th>fouls_per_match</th>\n",
       "      <th>corners_per_match</th>\n",
       "      <th>yellows_per_match</th>\n",
       "      <th>reds_per_match</th>\n",
       "    </tr>\n",
       "  </thead>\n",
       "  <tbody>\n",
       "    <tr>\n",
       "      <th>0</th>\n",
       "      <td>Arsenal</td>\n",
       "      <td>1.666667</td>\n",
       "      <td>0.666667</td>\n",
       "      <td>13.333333</td>\n",
       "      <td>3.333333</td>\n",
       "      <td>7.333333</td>\n",
       "      <td>6.000000</td>\n",
       "      <td>0.666667</td>\n",
       "      <td>0.0</td>\n",
       "    </tr>\n",
       "    <tr>\n",
       "      <th>1</th>\n",
       "      <td>Aston Villa</td>\n",
       "      <td>1.666667</td>\n",
       "      <td>0.666667</td>\n",
       "      <td>7.333333</td>\n",
       "      <td>4.000000</td>\n",
       "      <td>13.000000</td>\n",
       "      <td>2.333333</td>\n",
       "      <td>1.666667</td>\n",
       "      <td>0.0</td>\n",
       "    </tr>\n",
       "    <tr>\n",
       "      <th>2</th>\n",
       "      <td>Bournemouth</td>\n",
       "      <td>1.000000</td>\n",
       "      <td>0.333333</td>\n",
       "      <td>9.666667</td>\n",
       "      <td>2.666667</td>\n",
       "      <td>9.333333</td>\n",
       "      <td>3.333333</td>\n",
       "      <td>2.333333</td>\n",
       "      <td>0.0</td>\n",
       "    </tr>\n",
       "    <tr>\n",
       "      <th>3</th>\n",
       "      <td>Brentford</td>\n",
       "      <td>1.333333</td>\n",
       "      <td>0.666667</td>\n",
       "      <td>10.000000</td>\n",
       "      <td>4.333333</td>\n",
       "      <td>8.000000</td>\n",
       "      <td>2.333333</td>\n",
       "      <td>1.333333</td>\n",
       "      <td>0.0</td>\n",
       "    </tr>\n",
       "    <tr>\n",
       "      <th>4</th>\n",
       "      <td>Brighton &amp; Hove Albion</td>\n",
       "      <td>1.000000</td>\n",
       "      <td>0.000000</td>\n",
       "      <td>15.666667</td>\n",
       "      <td>6.333333</td>\n",
       "      <td>10.000000</td>\n",
       "      <td>7.666667</td>\n",
       "      <td>1.333333</td>\n",
       "      <td>0.0</td>\n",
       "    </tr>\n",
       "  </tbody>\n",
       "</table>\n",
       "</div>"
      ],
      "text/plain": [
       "                     Team  total_goals_per_match  half_time_goals_per_match  \\\n",
       "0                 Arsenal               1.666667                   0.666667   \n",
       "1             Aston Villa               1.666667                   0.666667   \n",
       "2             Bournemouth               1.000000                   0.333333   \n",
       "3               Brentford               1.333333                   0.666667   \n",
       "4  Brighton & Hove Albion               1.000000                   0.000000   \n",
       "\n",
       "   shots_per_match  shots_on_target_per_match  fouls_per_match  \\\n",
       "0        13.333333                   3.333333         7.333333   \n",
       "1         7.333333                   4.000000        13.000000   \n",
       "2         9.666667                   2.666667         9.333333   \n",
       "3        10.000000                   4.333333         8.000000   \n",
       "4        15.666667                   6.333333        10.000000   \n",
       "\n",
       "   corners_per_match  yellows_per_match  reds_per_match  \n",
       "0           6.000000           0.666667             0.0  \n",
       "1           2.333333           1.666667             0.0  \n",
       "2           3.333333           2.333333             0.0  \n",
       "3           2.333333           1.333333             0.0  \n",
       "4           7.666667           1.333333             0.0  "
      ]
     },
     "execution_count": 3,
     "metadata": {},
     "output_type": "execute_result"
    }
   ],
   "source": [
    "df.head()"
   ]
  },
  {
   "cell_type": "code",
   "execution_count": 4,
   "id": "2b01e2e9",
   "metadata": {},
   "outputs": [
    {
     "data": {
      "text/plain": [
       "'[\\n    {\\n        \"total_goals_per_match\": 1.666666667,\\n        \"half_time_goals_per_match\": 0.666666667,\\n        \"shots_per_match\": 13.33333333,\\n        \"shots_on_target_per_match\": 3.333333333,\\n        \"fouls_per_match\": 7.333333333,\\n        \"corners_per_match\": 6.0,\\n        \"yellows_per_match\": 0.666666667,\\n        \"reds_per_match\": 0.0\\n    }\\n]'"
      ]
     },
     "execution_count": 4,
     "metadata": {},
     "output_type": "execute_result"
    }
   ],
   "source": [
    "hometeam = 'Arsenal'\n",
    "test = df.loc[df['Team'] == hometeam]\n",
    "test = test.drop(columns=['Team'])\n",
    "test2 = test.to_json(orient=\"records\")\n",
    "parsed = json.loads(test2)\n",
    "json.dumps(parsed, indent=4)"
   ]
  },
  {
   "cell_type": "code",
   "execution_count": 5,
   "id": "e46d3929",
   "metadata": {},
   "outputs": [],
   "source": [
    "hometeam = 'Arsenal'\n",
    "awayteam = 'Aston Villa'\n",
    "\n",
    "homedf = df.loc[df['Team'] == hometeam]\n",
    "awaydf = df.loc[df['Team'] == awayteam]"
   ]
  },
  {
   "cell_type": "code",
   "execution_count": 29,
   "id": "4ac5a097",
   "metadata": {},
   "outputs": [
    {
     "data": {
      "text/plain": [
       "total_goals_per_match         1.666667\n",
       "half_time_goals_per_match     0.666667\n",
       "shots_per_match              13.333333\n",
       "shots_on_target_per_match     3.333333\n",
       "fouls_per_match               7.333333\n",
       "corners_per_match             6.000000\n",
       "yellows_per_match             0.666667\n",
       "reds_per_match                0.000000\n",
       "Name: 0, dtype: float64"
      ]
     },
     "execution_count": 29,
     "metadata": {},
     "output_type": "execute_result"
    }
   ],
   "source": [
    "test.head()\n",
    "test2 = test.squeeze()\n",
    "test2"
   ]
  },
  {
   "cell_type": "code",
   "execution_count": 15,
   "id": "3c6e7be9",
   "metadata": {},
   "outputs": [],
   "source": [
    "hometeam = 'Arsenal'\n",
    "test = df.loc[df['Team'] == hometeam]\n",
    "test = test.drop(columns=['Team'])\n",
    "\n",
    "awayteam = 'Aston Villa'\n",
    "test2 = df.loc[df['Team'] == awayteam]\n",
    "test2 = test2.drop(columns=['Team'])\n",
    "\n",
    "home = test.squeeze()\n",
    "away = test2.squeeze()\n",
    "\n",
    "predict = home - away\n",
    "\n",
    "predictdf = predict.to_frame()\n",
    "predictdf2 = predictdf.T"
   ]
  },
  {
   "cell_type": "code",
   "execution_count": 16,
   "id": "51a0339d",
   "metadata": {},
   "outputs": [
    {
     "data": {
      "text/html": [
       "<div>\n",
       "<style scoped>\n",
       "    .dataframe tbody tr th:only-of-type {\n",
       "        vertical-align: middle;\n",
       "    }\n",
       "\n",
       "    .dataframe tbody tr th {\n",
       "        vertical-align: top;\n",
       "    }\n",
       "\n",
       "    .dataframe thead th {\n",
       "        text-align: right;\n",
       "    }\n",
       "</style>\n",
       "<table border=\"1\" class=\"dataframe\">\n",
       "  <thead>\n",
       "    <tr style=\"text-align: right;\">\n",
       "      <th></th>\n",
       "      <th>total_goals_per_match</th>\n",
       "      <th>half_time_goals_per_match</th>\n",
       "      <th>shots_per_match</th>\n",
       "      <th>shots_on_target_per_match</th>\n",
       "      <th>fouls_per_match</th>\n",
       "      <th>corners_per_match</th>\n",
       "      <th>yellows_per_match</th>\n",
       "      <th>reds_per_match</th>\n",
       "    </tr>\n",
       "  </thead>\n",
       "  <tbody>\n",
       "    <tr>\n",
       "      <th>0</th>\n",
       "      <td>0.0</td>\n",
       "      <td>0.0</td>\n",
       "      <td>6.0</td>\n",
       "      <td>-0.666667</td>\n",
       "      <td>-5.666667</td>\n",
       "      <td>3.666667</td>\n",
       "      <td>-1.0</td>\n",
       "      <td>0.0</td>\n",
       "    </tr>\n",
       "  </tbody>\n",
       "</table>\n",
       "</div>"
      ],
      "text/plain": [
       "   total_goals_per_match  half_time_goals_per_match  shots_per_match  \\\n",
       "0                    0.0                        0.0              6.0   \n",
       "\n",
       "   shots_on_target_per_match  fouls_per_match  corners_per_match  \\\n",
       "0                  -0.666667        -5.666667           3.666667   \n",
       "\n",
       "   yellows_per_match  reds_per_match  \n",
       "0               -1.0             0.0  "
      ]
     },
     "execution_count": 16,
     "metadata": {},
     "output_type": "execute_result"
    }
   ],
   "source": [
    "predictdf2"
   ]
  },
  {
   "cell_type": "code",
   "execution_count": 17,
   "id": "511512f8",
   "metadata": {},
   "outputs": [
    {
     "data": {
      "text/html": [
       "<div>\n",
       "<style scoped>\n",
       "    .dataframe tbody tr th:only-of-type {\n",
       "        vertical-align: middle;\n",
       "    }\n",
       "\n",
       "    .dataframe tbody tr th {\n",
       "        vertical-align: top;\n",
       "    }\n",
       "\n",
       "    .dataframe thead th {\n",
       "        text-align: right;\n",
       "    }\n",
       "</style>\n",
       "<table border=\"1\" class=\"dataframe\">\n",
       "  <thead>\n",
       "    <tr style=\"text-align: right;\">\n",
       "      <th></th>\n",
       "      <th>total_goals_per_match_diff</th>\n",
       "      <th>half_time_goals_per_match_diff</th>\n",
       "      <th>shots_per_match_diff</th>\n",
       "      <th>shots_on_target_per_match_diff</th>\n",
       "      <th>fouls_per_match_diff</th>\n",
       "      <th>corners_per_match_diff</th>\n",
       "      <th>yellows_per_match_diff</th>\n",
       "      <th>reds_per_match_diff</th>\n",
       "    </tr>\n",
       "  </thead>\n",
       "  <tbody>\n",
       "    <tr>\n",
       "      <th>0</th>\n",
       "      <td>0.0</td>\n",
       "      <td>0.0</td>\n",
       "      <td>6.0</td>\n",
       "      <td>-0.666667</td>\n",
       "      <td>-5.666667</td>\n",
       "      <td>3.666667</td>\n",
       "      <td>-1.0</td>\n",
       "      <td>0.0</td>\n",
       "    </tr>\n",
       "  </tbody>\n",
       "</table>\n",
       "</div>"
      ],
      "text/plain": [
       "   total_goals_per_match_diff  half_time_goals_per_match_diff  \\\n",
       "0                         0.0                             0.0   \n",
       "\n",
       "   shots_per_match_diff  shots_on_target_per_match_diff  fouls_per_match_diff  \\\n",
       "0                   6.0                       -0.666667             -5.666667   \n",
       "\n",
       "   corners_per_match_diff  yellows_per_match_diff  reds_per_match_diff  \n",
       "0                3.666667                    -1.0                  0.0  "
      ]
     },
     "execution_count": 17,
     "metadata": {},
     "output_type": "execute_result"
    }
   ],
   "source": [
    "predictdf2.rename(columns={'total_goals_per_match': 'total_goals_per_match_diff', 'half_time_goals_per_match': 'half_time_goals_per_match_diff',\n",
    "         'shots_per_match': 'shots_per_match_diff', 'shots_on_target_per_match': 'shots_on_target_per_match_diff',\n",
    "         'fouls_per_match': 'fouls_per_match_diff', 'corners_per_match': 'corners_per_match_diff',\n",
    "         'yellows_per_match': 'yellows_per_match_diff', 'reds_per_match': 'reds_per_match_diff'})"
   ]
  },
  {
   "cell_type": "code",
   "execution_count": 11,
   "id": "cf87208a",
   "metadata": {},
   "outputs": [
    {
     "ename": "TypeError",
     "evalue": "unhashable type: 'list'",
     "output_type": "error",
     "traceback": [
      "\u001b[1;31m---------------------------------------------------------------------------\u001b[0m",
      "\u001b[1;31mTypeError\u001b[0m                                 Traceback (most recent call last)",
      "\u001b[1;32m~\\AppData\\Local\\Temp/ipykernel_13392/216784275.py\u001b[0m in \u001b[0;36m<module>\u001b[1;34m\u001b[0m\n\u001b[0;32m      4\u001b[0m \u001b[1;33m\u001b[0m\u001b[0m\n\u001b[0;32m      5\u001b[0m \u001b[0mpredictdf\u001b[0m \u001b[1;33m=\u001b[0m \u001b[0mpd\u001b[0m\u001b[1;33m.\u001b[0m\u001b[0mDataFrame\u001b[0m\u001b[1;33m(\u001b[0m\u001b[1;33m)\u001b[0m\u001b[1;33m\u001b[0m\u001b[1;33m\u001b[0m\u001b[0m\n\u001b[1;32m----> 6\u001b[1;33m \u001b[0mpredictdf\u001b[0m \u001b[1;33m=\u001b[0m \u001b[0mpredictdf\u001b[0m\u001b[1;33m.\u001b[0m\u001b[0mrename\u001b[0m\u001b[1;33m(\u001b[0m\u001b[0mcolumns\u001b[0m \u001b[1;33m=\u001b[0m \u001b[1;33m{\u001b[0m\u001b[0mstats\u001b[0m\u001b[1;33m}\u001b[0m\u001b[1;33m)\u001b[0m\u001b[1;33m\u001b[0m\u001b[1;33m\u001b[0m\u001b[0m\n\u001b[0m",
      "\u001b[1;31mTypeError\u001b[0m: unhashable type: 'list'"
     ]
    }
   ],
   "source": [
    "stats = [{'total_goals_per_match': 'total_goals_per_match_diff', 'half_time_goals_per_match': 'half_time_goals_per_match_diff',\n",
    "         'shots_per_match': 'shots_per_match_diff', 'shots_on_target_per_match': 'shots_on_target_per_match_diff',\n",
    "         'fouls_per_match': 'fouls_per_match_diff', 'corners_per_match': 'corners_per_match_diff',\n",
    "         'yellows_per_match': 'yellows_per_match_diff', 'reds_per_match': 'reds_per_match_diff'}]\n",
    "\n",
    "predictdf = pd.DataFrame()\n",
    "predictdf = predictdf.rename(columns = {stats})"
   ]
  },
  {
   "cell_type": "code",
   "execution_count": 25,
   "id": "d5eeecbb",
   "metadata": {},
   "outputs": [
    {
     "name": "stdout",
     "output_type": "stream",
     "text": [
      "5.999999997000001\n",
      "5.999999997000001\n"
     ]
    },
    {
     "data": {
      "text/html": [
       "<div>\n",
       "<style scoped>\n",
       "    .dataframe tbody tr th:only-of-type {\n",
       "        vertical-align: middle;\n",
       "    }\n",
       "\n",
       "    .dataframe tbody tr th {\n",
       "        vertical-align: top;\n",
       "    }\n",
       "\n",
       "    .dataframe thead th {\n",
       "        text-align: right;\n",
       "    }\n",
       "</style>\n",
       "<table border=\"1\" class=\"dataframe\">\n",
       "  <thead>\n",
       "    <tr style=\"text-align: right;\">\n",
       "      <th></th>\n",
       "      <th>Team</th>\n",
       "      <th>total_goals_per_match</th>\n",
       "      <th>half_time_goals_per_match</th>\n",
       "      <th>shots_per_match</th>\n",
       "      <th>shots_on_target_per_match</th>\n",
       "      <th>fouls_per_match</th>\n",
       "      <th>corners_per_match</th>\n",
       "      <th>yellows_per_match</th>\n",
       "      <th>reds_per_match</th>\n",
       "    </tr>\n",
       "  </thead>\n",
       "  <tbody>\n",
       "    <tr>\n",
       "      <th>0</th>\n",
       "      <td>Arsenal</td>\n",
       "      <td>1.666667</td>\n",
       "      <td>0.666667</td>\n",
       "      <td>13.333333</td>\n",
       "      <td>3.333333</td>\n",
       "      <td>7.333333</td>\n",
       "      <td>6.0</td>\n",
       "      <td>0.666667</td>\n",
       "      <td>0.0</td>\n",
       "    </tr>\n",
       "  </tbody>\n",
       "</table>\n",
       "</div>"
      ],
      "text/plain": [
       "      Team  total_goals_per_match  half_time_goals_per_match  shots_per_match  \\\n",
       "0  Arsenal               1.666667                   0.666667        13.333333   \n",
       "\n",
       "   shots_on_target_per_match  fouls_per_match  corners_per_match  \\\n",
       "0                   3.333333         7.333333                6.0   \n",
       "\n",
       "   yellows_per_match  reds_per_match  \n",
       "0           0.666667             0.0  "
      ]
     },
     "execution_count": 25,
     "metadata": {},
     "output_type": "execute_result"
    }
   ],
   "source": [
    "predictdf = pd.DataFrame()\n",
    "a = homedf.iloc[0][3]\n",
    "b = awaydf.iloc[0][3]\n",
    "c = a - b\n",
    "print(a-b)\n",
    "print(c)\n",
    "predictdf = homedf\n",
    "predictdf.head()\n",
    "predictdf = predictdf - awaydf"
   ]
  },
  {
   "cell_type": "code",
   "execution_count": 33,
   "id": "f65d83ba",
   "metadata": {},
   "outputs": [],
   "source": [
    "def select_stats(hometeam, awayteam):\n",
    "\n",
    "    predictdf = pd.DataFrame()\n",
    "    \n",
    "    homedf = df.loc[df['Team'] == hometeam]\n",
    "    homedf = homedf.drop(columns=['Team'])\n",
    "    \n",
    "    awaydf = df.loc[df['Team'] == awayteam]\n",
    "    awaydf = awaydf.drop(columns=['Team'])\n",
    "    \n",
    "    homeseries = homedf.squeeze()\n",
    "    awayseries = awaydf.squeeze()\n",
    "    \n",
    "    predict = homeseries - awayseries\n",
    "    \n",
    "    tempdf = predict.to_frame()\n",
    "    \n",
    "    predictdf = tempdf.T\n",
    "    \n",
    "    predictdf = predictdf.rename(columns={'total_goals_per_match': 'total_goals_per_match_diff', 'half_time_goals_per_match': 'half_time_goals_per_match_diff',\n",
    "         'shots_per_match': 'shots_per_match_diff', 'shots_on_target_per_match': 'shots_on_target_per_match_diff',\n",
    "         'fouls_per_match': 'fouls_per_match_diff', 'corners_per_match': 'corners_per_match_diff',\n",
    "         'yellows_per_match': 'yellows_per_match_diff', 'reds_per_match': 'reds_per_match_diff'})\n",
    "    \n",
    "    temp = predictdf.to_json(orient='records')\n",
    "    data = json.loads(temp)\n",
    "    final = json.dumps(data, indent=4)\n",
    "    \n",
    "    \n",
    "    return final"
   ]
  },
  {
   "cell_type": "code",
   "execution_count": 27,
   "id": "639d9b3e",
   "metadata": {},
   "outputs": [
    {
     "data": {
      "text/plain": [
       "'[\\n    {\\n        \"total_goals_per_match_diff\": 0.0,\\n        \"half_time_goals_per_match_diff\": 0.0,\\n        \"shots_per_match_diff\": 5.999999997,\\n        \"shots_on_target_per_match_diff\": -0.666666667,\\n        \"fouls_per_match_diff\": -5.666666667,\\n        \"corners_per_match_diff\": 3.666666667,\\n        \"yellows_per_match_diff\": -1.0,\\n        \"reds_per_match_diff\": 0.0\\n    }\\n]'"
      ]
     },
     "execution_count": 27,
     "metadata": {},
     "output_type": "execute_result"
    }
   ],
   "source": [
    "select_stats('Arsenal', 'Aston Villa')"
   ]
  },
  {
   "cell_type": "code",
   "execution_count": 41,
   "id": "9eaf5910",
   "metadata": {
    "scrolled": true
   },
   "outputs": [
    {
     "data": {
      "text/plain": [
       "'[\\n    {\\n        \"total_goals_per_match_diff\": 0.0,\\n        \"half_time_goals_per_match_diff\": 0.0,\\n        \"shots_per_match_diff\": -4.333333337,\\n        \"shots_on_target_per_match_diff\": -3.0,\\n        \"fouls_per_match_diff\": -4.33333333,\\n        \"corners_per_match_diff\": -2.0,\\n        \"yellows_per_match_diff\": -2.0,\\n        \"reds_per_match_diff\": 0.0\\n    }\\n]'"
      ]
     },
     "execution_count": 41,
     "metadata": {},
     "output_type": "execute_result"
    }
   ],
   "source": [
    "select_stats('Nottingham Forest', 'Everton')"
   ]
  },
  {
   "cell_type": "code",
   "execution_count": null,
   "id": "0895825b",
   "metadata": {},
   "outputs": [],
   "source": [
    "{\n",
    "    \"instances\": [\n",
    "        {\n",
    "            \"total_goals_per_match_diff\": 0.0,\n",
    "            \"half_time_goals_per_match_diff\": 0.0,\n",
    "            \"shots_per_match_diff\": -4.33333337,\n",
    "            \"shots_on_target_per_match_diff\": -3.0,\n",
    "            \"fouls_per_match_diff\": -4.33333333,\n",
    "            \"corners_per_match_diff\": -2.0,\n",
    "            \"yellows_per_match_diff\": -2.0,\n",
    "            \"reds_per_match_diff\": 0.0\n",
    "        }\n",
    "    ]\n",
    "}"
   ]
  }
 ],
 "metadata": {
  "kernelspec": {
   "display_name": "Python 3 (ipykernel)",
   "language": "python",
   "name": "python3"
  },
  "language_info": {
   "codemirror_mode": {
    "name": "ipython",
    "version": 3
   },
   "file_extension": ".py",
   "mimetype": "text/x-python",
   "name": "python",
   "nbconvert_exporter": "python",
   "pygments_lexer": "ipython3",
   "version": "3.9.7"
  }
 },
 "nbformat": 4,
 "nbformat_minor": 5
}
